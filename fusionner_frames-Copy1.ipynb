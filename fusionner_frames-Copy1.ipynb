{
 "cells": [
  {
   "cell_type": "code",
   "execution_count": 1,
   "id": "6c02cb15-3c78-4d07-a6dd-94582e9063da",
   "metadata": {},
   "outputs": [],
   "source": [
    "import pandas as pd\n",
    "import numpy as np"
   ]
  },
  {
   "cell_type": "code",
   "execution_count": 2,
   "id": "210b6acb-2011-4d7a-9c59-96cea79c7d44",
   "metadata": {
    "ExecuteTime": {
     "end_time": "2020-07-05T23:57:12.887408Z",
     "start_time": "2020-07-05T23:57:06.632071Z"
    }
   },
   "outputs": [],
   "source": [
    "test = pd.read_csv( 'application_test.csv')\n",
    "train = pd.read_csv('application_train.csv')\n",
    "bureau_balance = pd.read_csv('bureau_balance.csv')\n",
    "credit_card_balance = pd.read_csv('credit_card_balance.csv')\n",
    "POS_CASH_balance = pd.read_csv('POS_CASH_balance.csv')\n",
    "previous_application = pd.read_csv('previous_application.csv')\n",
    "sample_submission = pd.read_csv('sample_submission.csv')\n",
    "HomeCredit_columns_description = pd.read_csv('HomeCredit_columns_description.csv', encoding='ISO-8859-1')\n",
    "installments_payments = pd.read_csv('installments_payments.csv')\n",
    "bureau=pd.read_csv('bureau.csv')"
   ]
  },
  {
   "cell_type": "code",
   "execution_count": 16,
   "id": "63387852-42d8-4d5a-86af-65b0e96eaee2",
   "metadata": {},
   "outputs": [
    {
     "data": {
      "text/html": [
       "<div>\n",
       "<style scoped>\n",
       "    .dataframe tbody tr th:only-of-type {\n",
       "        vertical-align: middle;\n",
       "    }\n",
       "\n",
       "    .dataframe tbody tr th {\n",
       "        vertical-align: top;\n",
       "    }\n",
       "\n",
       "    .dataframe thead th {\n",
       "        text-align: right;\n",
       "    }\n",
       "</style>\n",
       "<table border=\"1\" class=\"dataframe\">\n",
       "  <thead>\n",
       "    <tr style=\"text-align: right;\">\n",
       "      <th></th>\n",
       "      <th>SK_ID_CURR</th>\n",
       "      <th>TARGET</th>\n",
       "    </tr>\n",
       "  </thead>\n",
       "  <tbody>\n",
       "    <tr>\n",
       "      <th>0</th>\n",
       "      <td>100001</td>\n",
       "      <td>0.5</td>\n",
       "    </tr>\n",
       "    <tr>\n",
       "      <th>1</th>\n",
       "      <td>100005</td>\n",
       "      <td>0.5</td>\n",
       "    </tr>\n",
       "    <tr>\n",
       "      <th>2</th>\n",
       "      <td>100013</td>\n",
       "      <td>0.5</td>\n",
       "    </tr>\n",
       "    <tr>\n",
       "      <th>3</th>\n",
       "      <td>100028</td>\n",
       "      <td>0.5</td>\n",
       "    </tr>\n",
       "    <tr>\n",
       "      <th>4</th>\n",
       "      <td>100038</td>\n",
       "      <td>0.5</td>\n",
       "    </tr>\n",
       "    <tr>\n",
       "      <th>...</th>\n",
       "      <td>...</td>\n",
       "      <td>...</td>\n",
       "    </tr>\n",
       "    <tr>\n",
       "      <th>48739</th>\n",
       "      <td>456221</td>\n",
       "      <td>0.5</td>\n",
       "    </tr>\n",
       "    <tr>\n",
       "      <th>48740</th>\n",
       "      <td>456222</td>\n",
       "      <td>0.5</td>\n",
       "    </tr>\n",
       "    <tr>\n",
       "      <th>48741</th>\n",
       "      <td>456223</td>\n",
       "      <td>0.5</td>\n",
       "    </tr>\n",
       "    <tr>\n",
       "      <th>48742</th>\n",
       "      <td>456224</td>\n",
       "      <td>0.5</td>\n",
       "    </tr>\n",
       "    <tr>\n",
       "      <th>48743</th>\n",
       "      <td>456250</td>\n",
       "      <td>0.5</td>\n",
       "    </tr>\n",
       "  </tbody>\n",
       "</table>\n",
       "<p>48744 rows × 2 columns</p>\n",
       "</div>"
      ],
      "text/plain": [
       "       SK_ID_CURR  TARGET\n",
       "0          100001     0.5\n",
       "1          100005     0.5\n",
       "2          100013     0.5\n",
       "3          100028     0.5\n",
       "4          100038     0.5\n",
       "...           ...     ...\n",
       "48739      456221     0.5\n",
       "48740      456222     0.5\n",
       "48741      456223     0.5\n",
       "48742      456224     0.5\n",
       "48743      456250     0.5\n",
       "\n",
       "[48744 rows x 2 columns]"
      ]
     },
     "execution_count": 16,
     "metadata": {},
     "output_type": "execute_result"
    }
   ],
   "source": [
    "sample_submission"
   ]
  },
  {
   "cell_type": "code",
   "execution_count": 3,
   "id": "6ba187fb-dc03-4385-b740-c19e007c11f1",
   "metadata": {},
   "outputs": [
    {
     "data": {
      "text/plain": [
       "(307511, 122)"
      ]
     },
     "execution_count": 3,
     "metadata": {},
     "output_type": "execute_result"
    }
   ],
   "source": [
    "train.shape"
   ]
  },
  {
   "cell_type": "code",
   "execution_count": 4,
   "id": "afdd6de8-a8c1-44fd-b8de-06abce3b025a",
   "metadata": {},
   "outputs": [
    {
     "data": {
      "text/plain": [
       "(48744, 121)"
      ]
     },
     "execution_count": 4,
     "metadata": {},
     "output_type": "execute_result"
    }
   ],
   "source": [
    "test.shape"
   ]
  },
  {
   "cell_type": "markdown",
   "id": "010818da-814a-424f-9398-674202b57908",
   "metadata": {},
   "source": [
    "# Fusionner avec bureau et bureau_balance"
   ]
  },
  {
   "cell_type": "code",
   "execution_count": 5,
   "id": "2b33baef-27fc-44c6-a1dd-5eaa03fe0a18",
   "metadata": {},
   "outputs": [],
   "source": [
    "\n",
    "def merge_with_bureau_bureau_balance(train):\n",
    "    # Filtrer bureau pour les entrées correspondant à SK_ID_CURR dans train ou test\n",
    "    all_ids = pd.concat([train['SK_ID_CURR'], test['SK_ID_CURR']]).unique()\n",
    "    bureau_filtered = bureau[bureau['SK_ID_CURR'].isin(all_ids)]\n",
    "\n",
    "    # Filtrer bureau_balance pour les entrées correspondant à SK_ID_BUREAU dans bureau_filtered\n",
    "    bureau_balance_filtered = bureau_balance[bureau_balance['SK_ID_BUREAU'].isin(bureau_filtered['SK_ID_BUREAU'])]\n",
    "\n",
    "    # Aggregations pour bureau_balance\n",
    "    agg_bureau_balance = bureau_balance_filtered.groupby('SK_ID_BUREAU').agg({\n",
    "        'MONTHS_BALANCE': ['mean']\n",
    "    })\n",
    "    agg_bureau_balance.columns = ['BB_' + '_'.join(col).strip() for col in agg_bureau_balance.columns.values]\n",
    "\n",
    "    # Fusionner les agrégations avec bureau_filtered\n",
    "    bureau_filtered = bureau_filtered.merge(agg_bureau_balance, on='SK_ID_BUREAU', how='left')\n",
    "\n",
    "    # Créer des dummies pour CREDIT_ACTIVE\n",
    "    credit_active_dummies = pd.get_dummies(bureau_filtered['CREDIT_ACTIVE'], prefix='ca')\n",
    "    credit_active_dummies['SK_ID_CURR'] = bureau_filtered['SK_ID_CURR']\n",
    "    credit_active_counts = credit_active_dummies.groupby('SK_ID_CURR').sum()\n",
    "\n",
    "    # Créer des dummies pour CREDIT_TYPE\n",
    "    credit_type_dummies = pd.get_dummies(bureau_filtered['CREDIT_TYPE'], prefix='ct')\n",
    "    credit_type_dummies['SK_ID_CURR'] = bureau_filtered['SK_ID_CURR']\n",
    "    credit_type_counts = credit_type_dummies.groupby('SK_ID_CURR').sum()\n",
    "\n",
    "    # Devise la plus fréquente\n",
    "    most_frequent_currency = bureau_filtered.groupby('SK_ID_CURR')['CREDIT_CURRENCY'].agg(lambda x: x.value_counts().index[0])\n",
    "\n",
    "    # Aggregations pour bureau\n",
    "    agg_bureau = bureau_filtered.groupby('SK_ID_CURR').agg({\n",
    "        'DAYS_CREDIT': ['min', 'max', 'mean'],\n",
    "        'CREDIT_DAY_OVERDUE': ['max', 'sum'],\n",
    "        'DAYS_CREDIT_ENDDATE': ['max'],\n",
    "        'DAYS_ENDDATE_FACT': ['mean'],\n",
    "        'AMT_CREDIT_MAX_OVERDUE': ['mean', 'max'],\n",
    "        'CNT_CREDIT_PROLONG': ['sum'],\n",
    "        'AMT_CREDIT_SUM': ['sum'],\n",
    "        'AMT_CREDIT_SUM_DEBT': ['sum'],\n",
    "        'AMT_CREDIT_SUM_OVERDUE': ['mean'],\n",
    "        'DAYS_CREDIT_UPDATE': ['mean'],\n",
    "        'AMT_ANNUITY': ['mean', 'sum'],\n",
    "    })\n",
    "    agg_bureau.columns = ['BUREAU_' + '_'.join(col).strip() for col in agg_bureau.columns.values]\n",
    "\n",
    "    # Fusionner toutes les agrégations avec train et test\n",
    "    train = train.merge(agg_bureau, on='SK_ID_CURR', how='left')\n",
    "    train = train.merge(credit_active_counts, on='SK_ID_CURR', how='left')\n",
    "    train = train.merge(credit_type_counts, on='SK_ID_CURR', how='left')\n",
    "    train['MOST_FREQ_CURRENCY'] = train['SK_ID_CURR'].map(most_frequent_currency)\n",
    "\n",
    "    return train\n"
   ]
  },
  {
   "cell_type": "markdown",
   "id": "cf1c55ae-586c-4ad2-ae64-b8ad533dc5b8",
   "metadata": {},
   "source": [
    "# Fusionner avec POS_CASH_balance"
   ]
  },
  {
   "cell_type": "code",
   "execution_count": 6,
   "id": "258bba03-7ba4-4f26-a9fd-99a3ca245f5a",
   "metadata": {},
   "outputs": [],
   "source": [
    "\n",
    "def merge_with_pos_cash_balance(train):\n",
    "    # Filtrer POS_CASH_balance pour les entrées correspondant à SK_ID_CURR dans train ou test\n",
    "    all_ids = pd.concat([train['SK_ID_CURR'], test['SK_ID_CURR']]).unique()\n",
    "    pos_cash_filtered = POS_CASH_balance[POS_CASH_balance['SK_ID_CURR'].isin(all_ids)]\n",
    "\n",
    "    # Aggregations pour POS_CASH_balance\n",
    "    agg_pos_cash = pos_cash_filtered.groupby('SK_ID_CURR').agg({\n",
    "        'MONTHS_BALANCE': ['count', 'min', 'max'],\n",
    "        'CNT_INSTALMENT': ['sum'],\n",
    "        'CNT_INSTALMENT_FUTURE': ['sum'],\n",
    "        'SK_DPD': ['max', 'sum'],\n",
    "        'SK_DPD_DEF': ['max', 'sum']\n",
    "    })\n",
    "\n",
    "    # Renommer les colonnes\n",
    "    agg_pos_cash.columns = ['PCB_' + '_'.join(col).strip() for col in agg_pos_cash.columns.values]\n",
    "\n",
    "    # Fusionner avec train et test\n",
    "    train_merged = train.merge(agg_pos_cash, on='SK_ID_CURR', how='left')\n",
    "    \n",
    "    return train_merged\n"
   ]
  },
  {
   "cell_type": "markdown",
   "id": "6753ea9f-ac54-4e7d-98ce-6c36e4e9317e",
   "metadata": {},
   "source": [
    "# Fusionner avec credit_card_balance"
   ]
  },
  {
   "cell_type": "code",
   "execution_count": 7,
   "id": "5b5f1f53-f406-48d9-adc5-7392c0459677",
   "metadata": {},
   "outputs": [],
   "source": [
    "\n",
    "def merge_with_credit_card_balance(train):\n",
    "    # Filtrer credit_card_balance pour les entrées correspondant à SK_ID_CURR dans train ou test\n",
    "    all_ids = pd.concat([train['SK_ID_CURR'], test['SK_ID_CURR']]).unique()\n",
    "    credit_card_filtered = credit_card_balance[credit_card_balance['SK_ID_CURR'].isin(all_ids)]\n",
    "\n",
    "    # Aggregations pour credit_card_balance\n",
    "    agg_credit_card = credit_card_filtered.groupby('SK_ID_CURR').agg({\n",
    "        'AMT_BALANCE': ['sum'],\n",
    "        'AMT_CREDIT_LIMIT_ACTUAL': ['sum'],\n",
    "        'AMT_DRAWINGS_ATM_CURRENT': ['sum'],\n",
    "        'AMT_DRAWINGS_CURRENT': ['sum'],\n",
    "        'AMT_PAYMENT_CURRENT': ['sum'],\n",
    "        'CNT_DRAWINGS_CURRENT': ['sum'],\n",
    "        'SK_DPD': ['max', 'sum'],\n",
    "        'SK_DPD_DEF': ['max', 'sum']\n",
    "    })\n",
    "\n",
    "    # Renommer les colonnes\n",
    "    agg_credit_card.columns = ['CCB_' + '_'.join(col).strip() for col in agg_credit_card.columns.values]\n",
    "\n",
    "    # Fusionner avec train et test\n",
    "    train_merged = train.merge(agg_credit_card, on='SK_ID_CURR', how='left')\n",
    "\n",
    "    return train_merged\n"
   ]
  },
  {
   "cell_type": "markdown",
   "id": "c8f609c2-028a-478e-8d6e-7bc689eedc87",
   "metadata": {},
   "source": [
    "# Fusionner avec previous_application"
   ]
  },
  {
   "cell_type": "code",
   "execution_count": 8,
   "id": "073af519-ae99-4a0c-bec1-a1edd7701111",
   "metadata": {},
   "outputs": [],
   "source": [
    "\n",
    "def merge_with_previous_application(train):\n",
    "    # Filtrer previous_application pour les entrées correspondant à SK_ID_CURR dans train ou test\n",
    "    all_ids = pd.concat([train['SK_ID_CURR'], test['SK_ID_CURR']]).unique()\n",
    "    previous_filtered = previous_application[previous_application['SK_ID_CURR'].isin(all_ids)]\n",
    "\n",
    "    # Aggregations pour previous_application\n",
    "    agg_previous = previous_filtered.groupby('SK_ID_CURR').agg({\n",
    "        'AMT_ANNUITY': ['sum'],\n",
    "        'AMT_APPLICATION': ['sum'],\n",
    "        'AMT_CREDIT': ['sum'],\n",
    "        'AMT_DOWN_PAYMENT': ['sum'],\n",
    "        'AMT_GOODS_PRICE': ['sum'],\n",
    "        'RATE_DOWN_PAYMENT': ['mean'],\n",
    "        'DAYS_DECISION': ['mean'],\n",
    "        'CNT_PAYMENT': ['sum']\n",
    "    })\n",
    "\n",
    "    # Renommer les colonnes\n",
    "    agg_previous.columns = ['PA_' + '_'.join(col).strip() for col in agg_previous.columns.values]\n",
    "\n",
    "    # Fusionner avec train et test\n",
    "    train_merged = train.merge(agg_previous, on='SK_ID_CURR', how='left')\n",
    "\n",
    "    return train_merged\n"
   ]
  },
  {
   "cell_type": "markdown",
   "id": "9efed33e-b5f3-4955-a3ac-1fff8cfd4165",
   "metadata": {},
   "source": [
    "# Fusionner avec installments_payments"
   ]
  },
  {
   "cell_type": "code",
   "execution_count": 9,
   "id": "95c662e8-ce6d-40da-adfc-b0aba35c7e08",
   "metadata": {},
   "outputs": [],
   "source": [
    "\n",
    "def merge_with_installments_payments(train):\n",
    "    # Filtrer installments_payments pour les entrées correspondant à SK_ID_CURR dans train ou test\n",
    "    all_ids = pd.concat([train['SK_ID_CURR'], test['SK_ID_CURR']]).unique()\n",
    "    installments_filtered = installments_payments[installments_payments['SK_ID_CURR'].isin(all_ids)]\n",
    "\n",
    "    # Aggregations pour installments_payments\n",
    "    agg_installments = installments_filtered.groupby('SK_ID_CURR').agg({\n",
    "        'NUM_INSTALMENT_VERSION': ['mean'],\n",
    "        'NUM_INSTALMENT_NUMBER': ['max'],\n",
    "        'DAYS_INSTALMENT': ['mean'],\n",
    "        'DAYS_ENTRY_PAYMENT': ['mean'],\n",
    "        'AMT_INSTALMENT': ['sum'],\n",
    "        'AMT_PAYMENT': ['sum']\n",
    "    })\n",
    "\n",
    "    # Renommer les colonnes\n",
    "    agg_installments.columns = ['INST_' + '_'.join(col).strip() for col in agg_installments.columns.values]\n",
    "\n",
    "    # Fusionner avec train et test\n",
    "    train_merged = train.merge(agg_installments, on='SK_ID_CURR', how='left')\n",
    "\n",
    "    return train_merged\n"
   ]
  },
  {
   "cell_type": "markdown",
   "id": "e7f01a64-5a5d-4b7f-81ae-307285886d95",
   "metadata": {},
   "source": [
    "# Fusionner avec tous les frames"
   ]
  },
  {
   "cell_type": "code",
   "execution_count": 10,
   "id": "887703a0-bb65-458f-9eee-c7feb0bf8b07",
   "metadata": {},
   "outputs": [],
   "source": [
    "def merge_with(train):\n",
    "    train1 = train.copy()\n",
    "    train1 = merge_with_bureau_bureau_balance(train1)\n",
    "    train1 = merge_with_pos_cash_balance(train1)\n",
    "    train1 = merge_with_credit_card_balance(train1)\n",
    "    train1 = merge_with_previous_application(train1)\n",
    "    train1 = merge_with_installments_payments(train1)\n",
    "    return train1"
   ]
  },
  {
   "cell_type": "code",
   "execution_count": 11,
   "id": "a832a212-dfa4-4edd-aae4-3a8a9d80ba4f",
   "metadata": {},
   "outputs": [],
   "source": [
    "train_merged=merge_with(train)"
   ]
  },
  {
   "cell_type": "code",
   "execution_count": 12,
   "id": "2ed68e4c-b50c-41de-8dfd-ae7fea3f31d4",
   "metadata": {},
   "outputs": [
    {
     "name": "stdout",
     "output_type": "stream",
     "text": [
      "(307511, 191)\n"
     ]
    }
   ],
   "source": [
    "print(train_merged.shape)"
   ]
  },
  {
   "cell_type": "code",
   "execution_count": 13,
   "id": "595558da-1664-48dc-b0fd-f313aae3b237",
   "metadata": {},
   "outputs": [],
   "source": [
    "test_merged=merge_with(test)"
   ]
  },
  {
   "cell_type": "code",
   "execution_count": 14,
   "id": "3aecbe7b-3dca-4c1f-a066-6eeb08669c99",
   "metadata": {},
   "outputs": [
    {
     "name": "stdout",
     "output_type": "stream",
     "text": [
      "(48744, 187)\n"
     ]
    }
   ],
   "source": [
    "print(test_merged.shape)\n"
   ]
  },
  {
   "cell_type": "code",
   "execution_count": null,
   "id": "b81be697-2742-42e6-a66b-56b36a23d7df",
   "metadata": {},
   "outputs": [],
   "source": []
  },
  {
   "cell_type": "code",
   "execution_count": 15,
   "id": "27964611-b55d-4360-8d8f-0cc77f1bf296",
   "metadata": {},
   "outputs": [],
   "source": [
    "train_merged.to_csv('train_merged.csv')\n",
    "train_merged.to_csv('test_merged.csv')"
   ]
  }
 ],
 "metadata": {
  "kernelspec": {
   "display_name": "Python 3 (ipykernel)",
   "language": "python",
   "name": "python3"
  },
  "language_info": {
   "codemirror_mode": {
    "name": "ipython",
    "version": 3
   },
   "file_extension": ".py",
   "mimetype": "text/x-python",
   "name": "python",
   "nbconvert_exporter": "python",
   "pygments_lexer": "ipython3",
   "version": "3.11.4"
  }
 },
 "nbformat": 4,
 "nbformat_minor": 5
}
