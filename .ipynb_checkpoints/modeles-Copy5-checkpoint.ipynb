{
 "cells": [
  {
   "cell_type": "code",
   "execution_count": 1,
   "id": "8ddb09f8-21cc-4800-95e1-1e64add8675e",
   "metadata": {},
   "outputs": [],
   "source": [
    "import pandas as pd\n",
    "import matplotlib.pyplot as plt\n",
    "import mlflow"
   ]
  },
  {
   "cell_type": "code",
   "execution_count": 2,
   "id": "ffd7e51d-cb3b-49af-8c9e-027936ba156d",
   "metadata": {},
   "outputs": [],
   "source": [
    "mlflow.set_tracking_uri(\"http://127.0.0.1:5000\")"
   ]
  },
  {
   "cell_type": "code",
   "execution_count": 3,
   "id": "4859fca1-1bb5-4a0f-831c-f251bb28ca08",
   "metadata": {},
   "outputs": [],
   "source": [
    "train = pd.read_csv('train_cleaned.csv')\n",
    "test = pd.read_csv('test_cleaned.csv')"
   ]
  },
  {
   "cell_type": "markdown",
   "id": "58d563fb-7365-428f-acc8-21ec0293b77c",
   "metadata": {},
   "source": [
    "# Equilibrage des Données"
   ]
  },
  {
   "cell_type": "code",
   "execution_count": 4,
   "id": "6ef42103-040a-4942-9933-a439afc75ad3",
   "metadata": {},
   "outputs": [],
   "source": [
    "from imblearn.over_sampling import SMOTE\n",
    "from sklearn.model_selection import train_test_split\n",
    "\n",
    "\n",
    "from imblearn.over_sampling import SMOTE\n",
    "from sklearn.model_selection import train_test_split\n",
    "\n",
    "def balance_data(df, target_column, test_size=0.2, random_state=42):\n",
    "    \"\"\"\n",
    "    Prépare les données en appliquant le suréchantillonnage SMOTE sur l'ensemble d'entraînement.\n",
    "\n",
    "    Paramètres:\n",
    "    - X : caractéristiques\n",
    "    - y : variable cible\n",
    "    - test_size : proportion de l'ensemble de test\n",
    "    - random_state : graine pour la reproductibilité\n",
    "\n",
    "    Retourne:\n",
    "    - X_train_balanced, y_train_balanced : données d'entraînement équilibrées\n",
    "    - X_test, y_test : données de test\n",
    "    \"\"\"\n",
    "    X = df.drop(target_column, axis=1)\n",
    "    y = df[target_column]\n",
    "    X_train, X_test, y_train, y_test = train_test_split(X, y, test_size=test_size, random_state=random_state)\n",
    "\n",
    "    smote = SMOTE(random_state=random_state)\n",
    "    X_train_balanced, y_train_balanced = smote.fit_resample(X_train, y_train)\n",
    "\n",
    "    return X_train_balanced, y_train_balanced, X_test, y_test\n",
    "\n"
   ]
  },
  {
   "cell_type": "code",
   "execution_count": 5,
   "id": "651a19b2-d687-42b7-96ff-258047a1b37f",
   "metadata": {},
   "outputs": [],
   "source": [
    "def business_cost(y_true, y_pred, cost_fn, cost_fp):\n",
    "    \"\"\"\n",
    "    Calcule le coût métier basé sur les faux négatifs et les faux positifs.\n",
    "    \"\"\"\n",
    "    fn = sum((y_pred == 0) & (y_true == 1))\n",
    "    fp = sum((y_pred == 1) & (y_true == 0))\n",
    "    return fn * cost_fn + fp * cost_fp\n"
   ]
  },
  {
   "cell_type": "code",
   "execution_count": 6,
   "id": "58deb501-0ebd-40cc-9cc6-5aadfbd94511",
   "metadata": {},
   "outputs": [],
   "source": [
    "import numpy as np\n",
    "\n",
    "def find_optimal_threshold(y_test, y_scores, cost_fn, cost_fp):\n",
    "    \"\"\"\n",
    "    Trouve le seuil optimal pour la classification.\n",
    "\n",
    "    Paramètres :\n",
    "    - y_test : valeurs réelles\n",
    "    - y_scores : scores de probabilité prédits par le modèle\n",
    "    - cost_fn : coût d'un faux négatif\n",
    "    - cost_fp : coût d'un faux positif\n",
    "\n",
    "    Retourne :\n",
    "    - seuil optimal pour la classification\n",
    "    \"\"\"\n",
    "    thresholds = np.linspace(0, 1, 100)\n",
    "    costs = []\n",
    "    \n",
    "    for threshold in thresholds:\n",
    "        y_pred = (y_scores >= threshold).astype(int)\n",
    "        cost = business_cost(y_test, y_pred, cost_fn, cost_fp)\n",
    "        costs.append(cost)\n",
    "    \n",
    "    # Trouver le seuil avec le coût le plus bas\n",
    "    optimal_idx = np.argmin(costs)\n",
    "    optimal_threshold = thresholds[optimal_idx]\n",
    "\n",
    "    return optimal_threshold\n"
   ]
  },
  {
   "cell_type": "code",
   "execution_count": 10,
   "id": "18bff682-3ea3-4c01-b335-08c8d9bd0237",
   "metadata": {},
   "outputs": [],
   "source": [
    "from sklearn.model_selection import train_test_split\n",
    "from sklearn.metrics import roc_auc_score\n",
    "\n",
    "def train_model_with_optimal_threshold(df, target, model, test_size=0.2, random_state=42, cost_fn=10, cost_fp=1):\n",
    "    \"\"\"\n",
    "    Entraîne un modèle avec le seuil de probabilité optimal sur un DataFrame donné.\n",
    "\n",
    "    Paramètres :\n",
    "    - df : DataFrame contenant les données.\n",
    "    - features : liste des noms des colonnes de caractéristiques.\n",
    "    - target : nom de la colonne cible.\n",
    "    - model : modèle de machine learning à entraîner.\n",
    "    - cost_fn : coût d'un faux négatif.\n",
    "    - cost_fp : coût d'un faux positif.\n",
    "\n",
    "    Retourne :\n",
    "    - model : modèle entraîné avec seuil optimal.\n",
    "    - optimal_threshold : seuil de probabilité optimal.\n",
    "    \"\"\"\n",
    "    # Equilibrer le frame et séparer les caractéristiques et la cible dans le frame équilibré\n",
    "    X_train, y_train, X_test, y_test = balance_data(df, target, test_size, random_state)\n",
    "\n",
    "    # Entraîner le modèle\n",
    "    model.fit(X_train, y_train)\n",
    "\n",
    "    # Prédire les probabilités sur l'ensemble de test\n",
    "    y_scores = model.predict_proba(X_test)[:, 1]\n",
    "\n",
    "    # Trouver le seuil optimal\n",
    "    optimal_threshold = find_optimal_threshold(y_test, y_scores, cost_fn, cost_fp)\n",
    "\n",
    "    # Ajuster le modèle pour utiliser ce seuil lors de la prédiction\n",
    "    model.threshold = optimal_threshold\n",
    "\n",
    "    # Ajuster le modèle pour utiliser ce seuil lors de la prédiction\n",
    "    evaluation_results =evaluate_model(X_test, y_test, model, optimal_threshold, cost_fn=10, cost_fp=1)\n",
    "\n",
    "    return model, optimal_threshold, evaluation_results"
   ]
  },
  {
   "cell_type": "code",
   "execution_count": null,
   "id": "76e960a5-b490-4670-842c-aef8fa5913e4",
   "metadata": {},
   "outputs": [],
   "source": [
    "from sklearn.ensemble import GradientBoostingClassifier\n",
    "# Exemple d'utilisation\n",
    "trained_model, optimal_threshold, evaluation_results = train_model_with_optimal_threshold(\n",
    "    train, 'TARGET', GradientBoostingClassifier(), cost_fn=10, cost_fp=1)"
   ]
  },
  {
   "cell_type": "code",
   "execution_count": null,
   "id": "a5259154-33d4-4d89-b519-59bd7764c381",
   "metadata": {},
   "outputs": [],
   "source": [
    "pp"
   ]
  },
  {
   "cell_type": "markdown",
   "id": "defa70f8-7066-43de-845e-adcbcbac4657",
   "metadata": {},
   "source": [
    "# Séparation des données"
   ]
  },
  {
   "cell_type": "code",
   "execution_count": null,
   "id": "4f179fac-ebeb-406e-b158-c411c0ab67c0",
   "metadata": {},
   "outputs": [],
   "source": [
    "test_size=0.2\n",
    "\n",
    "X_train, y_train, X_test, y_test=balance_data(train, 'TARGET', test_size, random_state=42)"
   ]
  },
  {
   "cell_type": "markdown",
   "id": "f93b7faf-d413-4fc6-9927-5a5e325edfbd",
   "metadata": {},
   "source": [
    "# Cross-Validation et Optimisation des Hyperparamètres"
   ]
  },
  {
   "cell_type": "code",
   "execution_count": null,
   "id": "39e0cf5e-8136-4ba5-b22c-62bcc5d1ae32",
   "metadata": {},
   "outputs": [],
   "source": [
    "from sklearn.model_selection import GridSearchCV\n",
    "from sklearn.decomposition import PCA\n",
    "from sklearn.pipeline import Pipeline\n",
    "\n",
    "def optimize_hyperparameters(model, param_grid, X, y, cv=5, scoring='roc_auc'):\n",
    "    \"\"\"\n",
    "    Optimise les hyperparamètres du modèle en utilisant GridSearchCV.\n",
    "\n",
    "    Paramètres:\n",
    "    - model : modèle à optimiser\n",
    "    - param_grid : grille des paramètres à tester\n",
    "    - X, y : données d'entraînement\n",
    "    - cv : nombre de plis pour la validation croisée\n",
    "    - scoring : métrique pour l'évaluation\n",
    "\n",
    "    Retourne:\n",
    "    - best_model : modèle avec les meilleurs paramètres\n",
    "    \"\"\"\n",
    "    grid_search = GridSearchCV(estimator=model, param_grid=param_grid, cv=cv, scoring=scoring, n_jobs=-1)\n",
    "    grid_search.fit(X, y)\n",
    "\n",
    "    best_model = grid_search.best_estimator_\n",
    "    return best_model\n"
   ]
  },
  {
   "cell_type": "markdown",
   "id": "c6e5be78-d64d-4d6c-8bf4-edb7bdae996c",
   "metadata": {},
   "source": [
    "# Définition d'une Fonction de Coût Métier"
   ]
  },
  {
   "cell_type": "markdown",
   "id": "7b3ee9e8-87f7-42e3-ad06-aa66d18133ed",
   "metadata": {},
   "source": [
    "# Optimisation du Seuil de probabilité"
   ]
  },
  {
   "cell_type": "markdown",
   "id": "f133d081-a81c-43e4-b784-7a98f6204541",
   "metadata": {},
   "source": [
    "## Calcul du seuil optimal"
   ]
  },
  {
   "cell_type": "code",
   "execution_count": null,
   "id": "df41223f-a4ad-4811-82f8-387c5f7f9eae",
   "metadata": {},
   "outputs": [],
   "source": [
    "import time\n",
    "from sklearn.metrics import accuracy_score, roc_auc_score\n",
    "\n",
    "def evaluate_model(X_test, y_test, model, optimal_threshold, cost_fn, cost_fp):\n",
    "    \"\"\"\n",
    "    Évalue le modèle en utilisant le seuil optimal et calcule le coût métier.\n",
    "\n",
    "    Paramètres:\n",
    "    - X_test, y_test : données de test\n",
    "    - model : modèle à évaluer\n",
    "    - optimal_threshold : seuil optimal pour la classification\n",
    "    - cost_fn : coût d'un faux négatif\n",
    "    - cost_fp : coût d'un faux positif\n",
    "\n",
    "    Retourne:\n",
    "    - Dictionnaire contenant Business Score, AUC, Accuracy et le temps d'exécution\n",
    "    \"\"\"\n",
    "    start_time = time.time()\n",
    "\n",
    "    y_scores = model.predict_proba(X_test)[:, 1]\n",
    "    y_pred_optimal = (y_scores >= optimal_threshold).astype(int)\n",
    "\n",
    "    business_score = business_cost(y_test, y_pred_optimal, cost_fn, cost_fp)\n",
    "    auc_score = roc_auc_score(y_test, y_scores)\n",
    "    accuracy = accuracy_score(y_test, y_pred_optimal)\n",
    "\n",
    "    end_time = time.time()\n",
    "    execution_time = end_time - start_time\n",
    "\n",
    "    return {\n",
    "        'Business Score': business_score,\n",
    "        'AUC': auc_score,\n",
    "        'Accuracy': accuracy,\n",
    "        'Execution Time (seconds)': execution_time\n",
    "    }"
   ]
  },
  {
   "cell_type": "code",
   "execution_count": null,
   "id": "b748ded5-8b89-462d-9bd7-ede26870c040",
   "metadata": {},
   "outputs": [],
   "source": [
    "# Modèle GradientBoostingClassifier"
   ]
  },
  {
   "cell_type": "code",
   "execution_count": null,
   "id": "d6acf285-c6bd-457f-85ed-41e844f3a717",
   "metadata": {},
   "outputs": [],
   "source": [
    "from sklearn.ensemble import GradientBoostingClassifier\n",
    "\n",
    "# Modèle Gradient Boosting\n",
    "model_gb = GradientBoostingClassifier(random_state=42)\n",
    "\n",
    "# Grille de paramètres pour Gradient Boosting\n",
    "param_grid_gb = {\n",
    "    'n_estimators': [100],\n",
    "    'max_depth': [10]\n",
    "}\n",
    "\n",
    "# Optimisation des hyperparamètres\n",
    "best_model_gb = optimize_hyperparameters(model_gb, param_grid_gb, X_train, y_train)"
   ]
  },
  {
   "cell_type": "code",
   "execution_count": null,
   "id": "04d873b4-7527-41e9-aeda-0a3c4b1851e9",
   "metadata": {},
   "outputs": [],
   "source": [
    "y_scores = best_model_gb.predict_proba(X_test)[:, 1]\n",
    "\n",
    "optimal_threshold_gb = find_optimal_threshold(y_test, y_scores, cost_fn=10, cost_fp=1)"
   ]
  },
  {
   "cell_type": "code",
   "execution_count": null,
   "id": "6dc37221-1175-4991-b253-bf3ba3136de8",
   "metadata": {},
   "outputs": [],
   "source": [
    "evaluation_results_gb=evaluate_model(X_test, y_test, best_model_gb, optimal_threshold_gb, cost_fn=10, cost_fp=1)"
   ]
  },
  {
   "cell_type": "code",
   "execution_count": null,
   "id": "c254318a-2e4c-4f19-afe7-b3cda0abacea",
   "metadata": {},
   "outputs": [],
   "source": [
    "evaluation_results_gb"
   ]
  },
  {
   "cell_type": "code",
   "execution_count": null,
   "id": "57557b5e-85ac-4da7-917b-6336a796c892",
   "metadata": {},
   "outputs": [],
   "source": [
    "optimal_threshold_gb"
   ]
  }
 ],
 "metadata": {
  "kernelspec": {
   "display_name": "Python 3 (ipykernel)",
   "language": "python",
   "name": "python3"
  },
  "language_info": {
   "codemirror_mode": {
    "name": "ipython",
    "version": 3
   },
   "file_extension": ".py",
   "mimetype": "text/x-python",
   "name": "python",
   "nbconvert_exporter": "python",
   "pygments_lexer": "ipython3",
   "version": "3.11.4"
  }
 },
 "nbformat": 4,
 "nbformat_minor": 5
}
