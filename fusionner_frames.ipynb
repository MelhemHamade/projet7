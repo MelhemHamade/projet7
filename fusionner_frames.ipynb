{
 "cells": [
  {
   "cell_type": "code",
   "execution_count": null,
   "id": "7706fa63-3486-451e-8be4-09e0772015fb",
   "metadata": {},
   "outputs": [],
   "source": []
  },
  {
   "cell_type": "code",
   "execution_count": 1,
   "id": "6c02cb15-3c78-4d07-a6dd-94582e9063da",
   "metadata": {},
   "outputs": [],
   "source": [
    "import pandas as pd\n",
    "import numpy as np"
   ]
  },
  {
   "cell_type": "code",
   "execution_count": 2,
   "id": "210b6acb-2011-4d7a-9c59-96cea79c7d44",
   "metadata": {
    "ExecuteTime": {
     "end_time": "2020-07-05T23:57:12.887408Z",
     "start_time": "2020-07-05T23:57:06.632071Z"
    }
   },
   "outputs": [],
   "source": [
    "test = pd.read_csv( 'application_test.csv')\n",
    "train = pd.read_csv('application_train.csv')\n",
    "bureau_balance = pd.read_csv('bureau_balance.csv')\n",
    "credit_card_balance = pd.read_csv('credit_card_balance.csv')\n",
    "POS_CASH_balance = pd.read_csv('POS_CASH_balance.csv')\n",
    "previous_application = pd.read_csv('previous_application.csv')\n",
    "sample_submission = pd.read_csv('sample_submission.csv')\n",
    "HomeCredit_columns_description = pd.read_csv('HomeCredit_columns_description.csv', encoding='ISO-8859-1')\n",
    "installments_payments = pd.read_csv('installments_payments.csv')\n",
    "bureau=pd.read_csv('bureau.csv')"
   ]
  },
  {
   "cell_type": "code",
   "execution_count": 3,
   "id": "0373a65c-099c-4155-ab13-636affeecf7e",
   "metadata": {
    "scrolled": true
   },
   "outputs": [],
   "source": [
    "pd.set_option('display.max_rows', None)\n",
    "pd.set_option('display.max_columns', None)\n",
    "pd.set_option('display.max_colwidth', None)\n",
    "\n",
    "\n",
    "#HomeCredit_columns_description"
   ]
  },
  {
   "cell_type": "code",
   "execution_count": 4,
   "id": "4b264267-b609-41f7-9ced-6dad75c4fc4b",
   "metadata": {},
   "outputs": [],
   "source": [
    "pd.reset_option('display.max_rows')\n",
    "pd.reset_option('display.max_columns')\n",
    "pd.reset_option('display.max_colwidth')"
   ]
  },
  {
   "cell_type": "code",
   "execution_count": 5,
   "id": "4a7b5019-180d-43e3-835a-923bdc97d658",
   "metadata": {},
   "outputs": [
    {
     "data": {
      "text/plain": [
       "Index(['SK_ID_CURR', 'SK_ID_BUREAU', 'CREDIT_ACTIVE', 'CREDIT_CURRENCY',\n",
       "       'DAYS_CREDIT', 'CREDIT_DAY_OVERDUE', 'DAYS_CREDIT_ENDDATE',\n",
       "       'DAYS_ENDDATE_FACT', 'AMT_CREDIT_MAX_OVERDUE', 'CNT_CREDIT_PROLONG',\n",
       "       'AMT_CREDIT_SUM', 'AMT_CREDIT_SUM_DEBT', 'AMT_CREDIT_SUM_LIMIT',\n",
       "       'AMT_CREDIT_SUM_OVERDUE', 'CREDIT_TYPE', 'DAYS_CREDIT_UPDATE',\n",
       "       'AMT_ANNUITY'],\n",
       "      dtype='object')"
      ]
     },
     "execution_count": 5,
     "metadata": {},
     "output_type": "execute_result"
    }
   ],
   "source": [
    "bureau.columns"
   ]
  },
  {
   "cell_type": "code",
   "execution_count": 6,
   "id": "1db57e40-601a-4045-97e8-c955d2697f74",
   "metadata": {},
   "outputs": [
    {
     "name": "stdout",
     "output_type": "stream",
     "text": [
      "(307511, 122)\n"
     ]
    }
   ],
   "source": [
    "print(train.shape)\n"
   ]
  },
  {
   "cell_type": "code",
   "execution_count": 7,
   "id": "8ef9ed0c-12b1-4849-89c5-b4b2c4b4bb66",
   "metadata": {},
   "outputs": [],
   "source": [
    "# fusionner avec bureau et bureau_balance"
   ]
  },
  {
   "cell_type": "code",
   "execution_count": 8,
   "id": "777557ec-f7b9-4a44-8bb5-1e69c99444cb",
   "metadata": {},
   "outputs": [],
   "source": [
    "import pandas as pd\n",
    "\n",
    "# Assurez-vous que les données sont chargées\n",
    "# bureau = pd.read_csv('bureau.csv')\n",
    "# bureau_balance = pd.read_csv('bureau_balance.csv')\n",
    "# train = pd.read_csv('application_train.csv')\n",
    "# test = pd.read_csv('application_test.csv')\n",
    "\n",
    "# Filtrer bureau pour les entrées correspondant à SK_ID_CURR dans train ou test\n",
    "all_ids = pd.concat([train['SK_ID_CURR'], test['SK_ID_CURR']]).unique()\n",
    "bureau_filtered = bureau[bureau['SK_ID_CURR'].isin(all_ids)]\n",
    "\n",
    "# Filtrer bureau_balance pour les entrées correspondant à SK_ID_BUREAU dans bureau_filtered\n",
    "bureau_balance_filtered = bureau_balance[bureau_balance['SK_ID_BUREAU'].isin(bureau_filtered['SK_ID_BUREAU'])]\n",
    "\n",
    "# Aggregations pour bureau_balance\n",
    "agg_bureau_balance = bureau_balance_filtered.groupby('SK_ID_BUREAU').agg({\n",
    "    'MONTHS_BALANCE': ['mean']\n",
    "})\n",
    "agg_bureau_balance.columns = ['BB_' + '_'.join(col).strip() for col in agg_bureau_balance.columns.values]\n",
    "\n",
    "# Fusionner les agrégations avec bureau_filtered\n",
    "bureau_filtered = bureau_filtered.merge(agg_bureau_balance, on='SK_ID_BUREAU', how='left')\n",
    "\n",
    "# Créer des dummies pour CREDIT_ACTIVE et conserver SK_ID_CURR pour le groupement\n",
    "credit_active_dummies = pd.get_dummies(bureau_filtered['CREDIT_ACTIVE'], prefix='ca')\n",
    "credit_active_dummies['SK_ID_CURR'] = bureau_filtered['SK_ID_CURR']\n",
    "credit_active_counts = credit_active_dummies.groupby('SK_ID_CURR').sum()\n",
    "\n",
    "# Créer des dummies pour CREDIT_TYPE et conserver SK_ID_CURR pour le groupement\n",
    "credit_type_dummies = pd.get_dummies(bureau_filtered['CREDIT_TYPE'], prefix='ct')\n",
    "credit_type_dummies['SK_ID_CURR'] = bureau_filtered['SK_ID_CURR']\n",
    "credit_type_counts = credit_type_dummies.groupby('SK_ID_CURR').sum()\n",
    "\n",
    "# Devise la plus fréquente\n",
    "most_frequent_currency = bureau_filtered.groupby('SK_ID_CURR')['CREDIT_CURRENCY'].agg(lambda x: x.value_counts().index[0])\n",
    "\n",
    "agg_bureau = bureau_filtered.groupby('SK_ID_CURR').agg({\n",
    "    'DAYS_CREDIT': ['min', 'max', 'mean'],\n",
    "    'CREDIT_DAY_OVERDUE': ['max', 'sum'],\n",
    "    'DAYS_CREDIT_ENDDATE': ['max'],\n",
    "    'DAYS_ENDDATE_FACT': ['mean'],\n",
    "    'AMT_CREDIT_MAX_OVERDUE': ['mean', 'max'],\n",
    "    'CNT_CREDIT_PROLONG': ['sum'],\n",
    "    'AMT_CREDIT_SUM': ['sum'],\n",
    "    'AMT_CREDIT_SUM_DEBT': ['sum'],\n",
    "    'AMT_CREDIT_SUM_OVERDUE': ['mean'],\n",
    "    'DAYS_CREDIT_UPDATE': ['mean'],\n",
    "    'AMT_ANNUITY': ['mean', 'sum'],\n",
    "    # Assurez-vous que ces colonnes existent ou sont correctement calculées avant cette étape\n",
    "    # 'BB_MONTHS_BALANCE_mean': ['mean']  # Exemple pour bureau_balance\n",
    "})\n",
    "\n",
    "agg_bureau.columns = ['BUREAU_' + '_'.join(col).strip() for col in agg_bureau.columns.values]\n",
    "\n",
    "\n",
    "# Fusionner toutes les agrégations avec train et test\n",
    "train = train.merge(agg_bureau, on='SK_ID_CURR', how='left')\n",
    "train = train.merge(credit_active_counts, on='SK_ID_CURR', how='left')\n",
    "train = train.merge(credit_type_counts, on='SK_ID_CURR', how='left')\n",
    "train['MOST_FREQ_CURRENCY'] = train['SK_ID_CURR'].map(most_frequent_currency)\n",
    "\n",
    "test = test.merge(agg_bureau, on='SK_ID_CURR', how='left')\n",
    "test = test.merge(credit_active_counts, on='SK_ID_CURR', how='left')\n",
    "test = test.merge(credit_type_counts, on='SK_ID_CURR', how='left')\n",
    "test['MOST_FREQ_CURRENCY'] = test['SK_ID_CURR'].map(most_frequent_currency)\n",
    "\n",
    "# Vérifiez les résultats\n",
    "#print(train.head())\n",
    "#print(test.head())\n"
   ]
  },
  {
   "cell_type": "code",
   "execution_count": 9,
   "id": "a4fa07f5-bd1f-4209-b43b-200a85134bc7",
   "metadata": {},
   "outputs": [
    {
     "name": "stdout",
     "output_type": "stream",
     "text": [
      "(307511, 158)\n"
     ]
    }
   ],
   "source": [
    "print(train.shape)\n"
   ]
  },
  {
   "cell_type": "code",
   "execution_count": 10,
   "id": "35c3ce36-0205-40a9-b5d7-86fa08fca1e4",
   "metadata": {},
   "outputs": [],
   "source": [
    "import pandas as pd\n",
    "\n",
    "def presence_rate(data):\n",
    "    # Calculer le pourcentage de présence des données pour chaque colonne\n",
    "    presence_rate = (1 - data.isnull().mean()) * 100\n",
    "    \n",
    "    # Trier la série presence_rate par valeurs décroissantes\n",
    "    sorted_presence_rate = presence_rate.sort_values(ascending=False)\n",
    "    \n",
    "    # Formater chaque pourcentage avec deux chiffres après la virgule et ajouter le caractère '%'\n",
    "    formatted_presence_rate = sorted_presence_rate.apply(lambda x: f'{x:.2f} %')\n",
    "    \n",
    "    # Retourner le taux de présence formaté et trié\n",
    "    return formatted_presence_rate\n"
   ]
  },
  {
   "cell_type": "code",
   "execution_count": 11,
   "id": "4d630a0f-04c8-4707-b4b8-a3108a0e64a4",
   "metadata": {},
   "outputs": [],
   "source": [
    "pd.set_option('display.max_rows', None)\n",
    "pd.set_option('display.max_columns', None)\n",
    "pd.set_option('display.max_colwidth', None)\n",
    "\n"
   ]
  },
  {
   "cell_type": "markdown",
   "id": "d9799c81-658a-441b-a360-4dbefd24d525",
   "metadata": {},
   "source": [
    "presence_rate(train)"
   ]
  },
  {
   "cell_type": "markdown",
   "id": "278214e3-d09f-41da-b46e-25b2830e21ce",
   "metadata": {},
   "source": [
    "presence_rate(test)"
   ]
  },
  {
   "cell_type": "code",
   "execution_count": 12,
   "id": "5856bcfe-45bc-400d-a5ec-3d9b0531b9bc",
   "metadata": {},
   "outputs": [],
   "source": [
    "# fusionner avec POS_CASH_balance"
   ]
  },
  {
   "cell_type": "code",
   "execution_count": 13,
   "id": "717b90e8-11b6-41d8-a46a-eafae57e5973",
   "metadata": {},
   "outputs": [],
   "source": [
    "import pandas as pd\n",
    "\n",
    "# Supposons que train, test, et POS_CASH_balance sont déjà chargés\n",
    "\n",
    "# Filtrer POS_CASH_balance pour les entrées correspondant à SK_ID_CURR dans train ou test\n",
    "all_ids = pd.concat([train['SK_ID_CURR'], test['SK_ID_CURR']]).unique()\n",
    "pos_cash_filtered = POS_CASH_balance[POS_CASH_balance['SK_ID_CURR'].isin(all_ids)]\n",
    "\n",
    "# Aggregations pour POS_CASH_balance\n",
    "agg_pos_cash = pos_cash_filtered.groupby('SK_ID_CURR').agg({\n",
    "    'MONTHS_BALANCE': ['count', 'min', 'max'],\n",
    "    'CNT_INSTALMENT': ['sum'],\n",
    "    'CNT_INSTALMENT_FUTURE': ['sum'],\n",
    "    'SK_DPD': ['max', 'sum'],\n",
    "    'SK_DPD_DEF': ['max', 'sum']\n",
    "})\n",
    "\n",
    "# Renommer les colonnes\n",
    "agg_pos_cash.columns = ['_'.join(col).strip() for col in agg_pos_cash.columns.values]\n",
    "\n",
    "\n",
    "# Fusionner avec train et test\n",
    "train = train.merge(agg_pos_cash, on='SK_ID_CURR', how='left')\n",
    "test = test.merge(agg_pos_cash, on='SK_ID_CURR', how='left')\n"
   ]
  },
  {
   "cell_type": "code",
   "execution_count": 14,
   "id": "8c6e8caa-8a40-4c37-b34f-5761a095134f",
   "metadata": {},
   "outputs": [
    {
     "name": "stdout",
     "output_type": "stream",
     "text": [
      "(307511, 167)\n"
     ]
    }
   ],
   "source": [
    "print(train.shape)\n"
   ]
  },
  {
   "cell_type": "code",
   "execution_count": 15,
   "id": "ad59579f-89cf-471b-9652-5df8cb35870c",
   "metadata": {},
   "outputs": [],
   "source": [
    "# fusionner avec credit_card_balance"
   ]
  },
  {
   "cell_type": "code",
   "execution_count": 16,
   "id": "718e6a50-63e6-4589-a588-32c8bf931f8d",
   "metadata": {},
   "outputs": [],
   "source": [
    "# Filtrer credit_card_balance pour les entrées correspondant à SK_ID_CURR dans train ou test\n",
    "credit_card_filtered = credit_card_balance[credit_card_balance['SK_ID_CURR'].isin(all_ids)]\n",
    "\n",
    "# Aggregations pour credit_card_balance\n",
    "agg_credit_card = credit_card_filtered.groupby('SK_ID_CURR').agg({\n",
    "    'AMT_BALANCE': ['sum'],\n",
    "    'AMT_CREDIT_LIMIT_ACTUAL': ['sum'],\n",
    "    'AMT_DRAWINGS_ATM_CURRENT': ['sum'],\n",
    "    'AMT_DRAWINGS_CURRENT': ['sum'],\n",
    "    'AMT_PAYMENT_CURRENT': ['sum'],\n",
    "    'CNT_DRAWINGS_CURRENT': ['sum'],\n",
    "    'SK_DPD': ['max', 'sum'],\n",
    "    'SK_DPD_DEF': ['max', 'sum']\n",
    "})\n",
    "\n",
    "# Renommer les colonnes\n",
    "agg_credit_card.columns = ['_'.join(col).strip() for col in agg_credit_card.columns.values]\n",
    "\n",
    "# Fusionner avec train et test\n",
    "train = train.merge(agg_credit_card, on='SK_ID_CURR', how='left')\n",
    "test = test.merge(agg_credit_card, on='SK_ID_CURR', how='left')\n"
   ]
  },
  {
   "cell_type": "code",
   "execution_count": 17,
   "id": "5196b784-eddf-46fa-a05b-f2d62b6b2bbc",
   "metadata": {},
   "outputs": [
    {
     "name": "stdout",
     "output_type": "stream",
     "text": [
      "(307511, 177)\n"
     ]
    }
   ],
   "source": [
    "print(train.shape)\n"
   ]
  },
  {
   "cell_type": "code",
   "execution_count": 18,
   "id": "0a0c107e-1ebe-4fec-9d4f-6b01a3f1012f",
   "metadata": {},
   "outputs": [],
   "source": [
    "# fusionner avec previous_application"
   ]
  },
  {
   "cell_type": "code",
   "execution_count": 19,
   "id": "0336169d-048b-47d5-9d07-cc7cf649f28b",
   "metadata": {},
   "outputs": [],
   "source": [
    "# Filtrer previous_application pour les entrées correspondant à SK_ID_CURR dans train ou test\n",
    "previous_filtered = previous_application[previous_application['SK_ID_CURR'].isin(all_ids)]\n",
    "\n",
    "# Aggregations pour previous_application\n",
    "agg_previous = previous_filtered.groupby('SK_ID_CURR').agg({\n",
    "    'AMT_ANNUITY': ['sum'],\n",
    "    'AMT_APPLICATION': ['sum'],\n",
    "    'AMT_CREDIT': ['sum'],\n",
    "    'AMT_DOWN_PAYMENT': ['sum'],\n",
    "    'AMT_GOODS_PRICE': ['sum'],\n",
    "    'RATE_DOWN_PAYMENT': ['mean'],\n",
    "    'DAYS_DECISION': ['mean'],\n",
    "    'CNT_PAYMENT': ['sum']\n",
    "})\n",
    "\n",
    "# Renommer les colonnes\n",
    "agg_previous.columns = ['_'.join(col).strip() for col in agg_previous.columns.values]\n",
    "\n",
    "\n",
    "# Fusionner avec train et test\n",
    "train = train.merge(agg_previous, on='SK_ID_CURR', how='left')\n",
    "test = test.merge(agg_previous, on='SK_ID_CURR', how='left')\n"
   ]
  },
  {
   "cell_type": "code",
   "execution_count": 20,
   "id": "40c3a63d-aea9-4d5c-a169-2c0d0d86b098",
   "metadata": {},
   "outputs": [
    {
     "name": "stdout",
     "output_type": "stream",
     "text": [
      "(307511, 185)\n"
     ]
    }
   ],
   "source": [
    "print(train.shape)\n"
   ]
  },
  {
   "cell_type": "code",
   "execution_count": 21,
   "id": "f28deca5-03f1-44f5-830b-f8b966f41b04",
   "metadata": {},
   "outputs": [],
   "source": [
    "# fusionner avec installments_payments"
   ]
  },
  {
   "cell_type": "code",
   "execution_count": 22,
   "id": "545bfc90-fab4-4577-8d61-666ae6cce511",
   "metadata": {},
   "outputs": [],
   "source": [
    "# Filtrer installments_payments pour les entrées correspondant à SK_ID_CURR dans train ou test\n",
    "installments_filtered = installments_payments[installments_payments['SK_ID_CURR'].isin(all_ids)]\n",
    "\n",
    "# Aggregations pour installments_payments\n",
    "agg_installments = installments_filtered.groupby('SK_ID_CURR').agg({\n",
    "    'NUM_INSTALMENT_VERSION': ['mean'],\n",
    "    'NUM_INSTALMENT_NUMBER': ['max'],\n",
    "    'DAYS_INSTALMENT': ['mean'],\n",
    "    'DAYS_ENTRY_PAYMENT': ['mean'],\n",
    "    'AMT_INSTALMENT': ['sum'],\n",
    "    'AMT_PAYMENT': ['sum']\n",
    "})\n",
    "\n",
    "# Renommer les colonnes\n",
    "agg_installments.columns = ['INST_' + '_'.join(col).strip() for col in agg_installments.columns.values]\n",
    "\n",
    "# Fusionner avec train et test\n",
    "train = train.merge(agg_installments, on='SK_ID_CURR', how='left')\n",
    "test = test.merge(agg_installments, on='SK_ID_CURR', how='left')\n"
   ]
  },
  {
   "cell_type": "code",
   "execution_count": 23,
   "id": "b96a7075-a725-4426-9659-8c29bd84adc7",
   "metadata": {},
   "outputs": [
    {
     "name": "stdout",
     "output_type": "stream",
     "text": [
      "(307511, 191)\n"
     ]
    }
   ],
   "source": [
    "print(train.shape)\n"
   ]
  },
  {
   "cell_type": "code",
   "execution_count": 24,
   "id": "27964611-b55d-4360-8d8f-0cc77f1bf296",
   "metadata": {},
   "outputs": [],
   "source": [
    "train.to_csv('train_merged.csv')\n",
    "test.to_csv('test_merged.csv')"
   ]
  },
  {
   "cell_type": "markdown",
   "id": "af12a4f6-8821-4a82-8239-18bbcb87a3fc",
   "metadata": {},
   "source": [
    "presence_rate(train)"
   ]
  },
  {
   "cell_type": "code",
   "execution_count": null,
   "id": "8bda7451-2342-4cb8-ac8a-571044d27a31",
   "metadata": {},
   "outputs": [],
   "source": []
  },
  {
   "cell_type": "markdown",
   "id": "0ecb0be9-ea5c-4938-b16f-e6453fde45f6",
   "metadata": {},
   "source": [
    "presence_rate(train)"
   ]
  }
 ],
 "metadata": {
  "kernelspec": {
   "display_name": "Python 3 (ipykernel)",
   "language": "python",
   "name": "python3"
  },
  "language_info": {
   "codemirror_mode": {
    "name": "ipython",
    "version": 3
   },
   "file_extension": ".py",
   "mimetype": "text/x-python",
   "name": "python",
   "nbconvert_exporter": "python",
   "pygments_lexer": "ipython3",
   "version": "3.11.4"
  }
 },
 "nbformat": 4,
 "nbformat_minor": 5
}
